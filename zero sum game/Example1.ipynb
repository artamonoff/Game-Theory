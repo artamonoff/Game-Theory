{
 "cells": [
  {
   "cell_type": "markdown",
   "id": "9be69c90",
   "metadata": {},
   "source": [
    "# Пример 1"
   ]
  },
  {
   "cell_type": "code",
   "execution_count": 1,
   "id": "ddb5bcf1",
   "metadata": {},
   "outputs": [],
   "source": [
    "# Работа с матрицами\n",
    "import numpy as np\n",
    "# Линейное программирование\n",
    "from scipy.optimize import linprog\n",
    "# Символьная линейная алгебра\n",
    "from sympy import *\n",
    "init_printing()"
   ]
  },
  {
   "cell_type": "markdown",
   "id": "0ec75376",
   "metadata": {},
   "source": [
    "Двое играют на деньги, одновременно называя одно из чисел 1 или 2, \n",
    "и потом считая сумму $S$. Если $S$ четная, то первый выигрывает у второго $S$ долларов,\n",
    "если $S$ нечетная, то второй выигрывает у первого $S$ долларов. "
   ]
  },
  {
   "cell_type": "code",
   "execution_count": 2,
   "id": "3af92675",
   "metadata": {},
   "outputs": [
    {
     "data": {
      "image/png": "[encoded data removed]",
      "text/latex": [
       "$\\displaystyle \\left[\\begin{matrix}2 & -3\\\\-3 & 4\\end{matrix}\\right]$"
      ],
      "text/plain": [
       "⎡2   -3⎤\n",
       "⎢      ⎥\n",
       "⎣-3  4 ⎦"
      ]
     },
     "execution_count": 2,
     "metadata": {},
     "output_type": "execute_result"
    }
   ],
   "source": [
    "# Pay-off matrix\n",
    "A = np.array([ [2, -3], [-3, 4] ])\n",
    "Matrix(A) # from sympy"
   ]
  },
  {
   "cell_type": "markdown",
   "id": "01201884",
   "metadata": {},
   "source": [
    "## Верхняя и нижняя цена игры\n",
    "\n",
    "\\begin{align*}\n",
    "    \\overline{\\nu}&=\\min_{j}\\max_i a_{ij} & \\underline{\\nu}&=\\max_i\\min_j a_{ij}\n",
    "\\end{align*}"
   ]
  },
  {
   "cell_type": "code",
   "execution_count": 3,
   "id": "8d18cdaf",
   "metadata": {},
   "outputs": [
    {
     "data": {
      "text/plain": [
       "-3"
      ]
     },
     "execution_count": 3,
     "metadata": {},
     "output_type": "execute_result"
    }
   ],
   "source": [
    "# Нижняя цена игры\n",
    "max( A.min(axis=1) )"
   ]
  },
  {
   "cell_type": "code",
   "execution_count": 4,
   "id": "a1a4feb1",
   "metadata": {},
   "outputs": [
    {
     "data": {
      "text/plain": [
       "2"
      ]
     },
     "execution_count": 4,
     "metadata": {},
     "output_type": "execute_result"
    }
   ],
   "source": [
    "# Верхняя цена игры\n",
    "min( A.max(axis=0) )"
   ]
  },
  {
   "cell_type": "markdown",
   "id": "b7a3146a",
   "metadata": {},
   "source": [
    "Они не равны $\\Longrightarrow$ нет равновесия Нэша в чистых стратегиях"
   ]
  },
  {
   "cell_type": "markdown",
   "id": "cbcdae4a",
   "metadata": {},
   "source": [
    "## Ожидаемый выигрыш\n",
    "Предположим, что игроки следуют смешанным стратегиям $P^\\top=\\begin{pmatrix} 0.3 & 0.7\\end{pmatrix}$ и $Q^\\top=\\begin{pmatrix} 0.25 & 0.75\\end{pmatrix}$. Ожидаемый выигрыш каждого из игроков.\n",
    "\n",
    "Ожидаемый выигрышь первого $EU_A(P,Q)=P^\\top AQ$, второго $EU_B(P,Q)=-EU_A(P,Q)$"
   ]
  },
  {
   "cell_type": "code",
   "execution_count": 5,
   "id": "d340fa5b",
   "metadata": {},
   "outputs": [
    {
     "data": {
      "image/png": "[encoded data removed]",
      "text/latex": [
       "$\\displaystyle 1.05$"
      ],
      "text/plain": [
       "1.0499999999999998"
      ]
     },
     "execution_count": 5,
     "metadata": {},
     "output_type": "execute_result"
    }
   ],
   "source": [
    "P = np.array([0.3, 0.7])\n",
    "Q = np.array([0.25, 0.75])\n",
    "# Ожидаемый выигрыш\n",
    "P.T@A@Q"
   ]
  },
  {
   "cell_type": "markdown",
   "id": "27c0c598",
   "metadata": {},
   "source": [
    "## Равновесие Нэша в смешанных стратегиях\n",
    "Библиотека `scipy.optimize.linprog` [решает](https://docs.scipy.org/doc/scipy/tutorial/optimize.html#linear-programming-linprog) задачу линейного программирования в виде\n",
    "\\begin{gather*}\n",
    "    \\min c^\\top x \\\\ s.t.\\left\\{\\begin{aligned} \n",
    "    A_{ub}x &\\leq b_{ub} \\\\ A_{eq}x &= b_{eq} \\\\ l\\leq x&\\leq u\n",
    "    \\end{aligned}\\right.\n",
    "\\end{gather*}\n",
    "Матрица $A$ имеемт отрицательные элементы $\\Longrightarrow$ будем использовать матрицу $A_c=A+4$\n",
    "\n",
    "### Первый игрок\n",
    "Первый игрок решает задачу оптимизации\n",
    "\\begin{gather*}\n",
    "    \\begin{gathered} \\max 1^\\top x\\\\ s.t. \\left\\{\\begin{aligned}\n",
    "    A_c^\\top x &\\leq 1 \\\\ x&\\geq0\n",
    "    \\end{aligned}\\right.\n",
    "    \\end{gathered} \\Longrightarrow \n",
    "    \\begin{gathered} \\min c^\\top x\\\\ s.t. \\left\\{\\begin{aligned}\n",
    "    A_c^\\top x &\\leq b \\\\ 0&\\leq x\n",
    "    \\end{aligned}\\right.\n",
    "    \\end{gathered}\n",
    "\\end{gather*}\n",
    "где $c^\\top=\\begin{pmatrix} -1 & -1 \\end{pmatrix}$, $b^\\top=\\begin{pmatrix} 1 & 1 \\end{pmatrix}$"
   ]
  },
  {
   "cell_type": "code",
   "execution_count": 6,
   "id": "ab6b01e5",
   "metadata": {},
   "outputs": [
    {
     "data": {
      "text/plain": [
       "(array([0.14893617, 0.10638298]), -0.25531914893617025)"
      ]
     },
     "execution_count": 6,
     "metadata": {},
     "output_type": "execute_result"
    }
   ],
   "source": [
    "A_c = A+4\n",
    "c = np.array([-1,-1])\n",
    "b = np.array([1,1])\n",
    "x_bounds = [(0, None), (0, None)]\n",
    "result = linprog(c, A_ub=A_c.T, b_ub=b, bounds=x_bounds)\n",
    "# Решение и значение целевая функции\n",
    "result.x, result.fun"
   ]
  },
  {
   "cell_type": "markdown",
   "id": "0671137c",
   "metadata": {},
   "source": [
    "Цена игры с матрицей $A_c$ (выигрыш первого) и равновесная стратегия первого"
   ]
  },
  {
   "cell_type": "code",
   "execution_count": 7,
   "id": "91b18305",
   "metadata": {
    "scrolled": true
   },
   "outputs": [
    {
     "data": {
      "text/plain": [
       "(3.916666666666666, array([0.58333333, 0.41666667]))"
      ]
     },
     "execution_count": 7,
     "metadata": {},
     "output_type": "execute_result"
    }
   ],
   "source": [
    "U_c = -1/result.fun\n",
    "P = U_c*result.x\n",
    "U_c, P"
   ]
  },
  {
   "cell_type": "markdown",
   "id": "4be03992",
   "metadata": {},
   "source": [
    "Цена исходной игры"
   ]
  },
  {
   "cell_type": "code",
   "execution_count": 8,
   "id": "0c10a22a",
   "metadata": {},
   "outputs": [
    {
     "data": {
      "image/png": "[encoded data removed]",
      "text/latex": [
       "$\\displaystyle -0.0833333333333339$"
      ],
      "text/plain": [
       "-0.08333333333333393"
      ]
     },
     "execution_count": 8,
     "metadata": {},
     "output_type": "execute_result"
    }
   ],
   "source": [
    "U_c-4"
   ]
  },
  {
   "cell_type": "markdown",
   "id": "4354abdc",
   "metadata": {},
   "source": [
    "### Второй игрок\n",
    "Первый игрок решает задачу оптимизации\n",
    "\\begin{gather*}\n",
    "    \\begin{gathered} \\min 1^\\top y\\\\ s.t. \\left\\{\\begin{aligned}\n",
    "    A_c u &\\geq 1 \\\\ y&\\geq0\n",
    "    \\end{aligned}\\right.\n",
    "    \\end{gathered} \\Longrightarrow \n",
    "    \\begin{gathered} \\min c^\\top y\\\\ s.t. \\left\\{\\begin{aligned}\n",
    "    -A_c y &\\leq b \\\\ 0&\\leq y\n",
    "    \\end{aligned}\\right.\n",
    "    \\end{gathered}\n",
    "\\end{gather*}\n",
    "где $c^\\top=\\begin{pmatrix} 1 & 1 \\end{pmatrix}$, $b^\\top=\\begin{pmatrix} -1 & -1 \\end{pmatrix}$"
   ]
  },
  {
   "cell_type": "code",
   "execution_count": 9,
   "id": "b60ef874",
   "metadata": {},
   "outputs": [
    {
     "data": {
      "text/plain": [
       "(array([0.14893617, 0.10638298]), 0.2553191489361702)"
      ]
     },
     "execution_count": 9,
     "metadata": {},
     "output_type": "execute_result"
    }
   ],
   "source": [
    "A_c = A+4\n",
    "c = np.array([1,1])\n",
    "b = np.array([-1,-1])\n",
    "y_bounds = [(0, None), (0, None)]\n",
    "result = linprog(c, A_ub=-A_c, b_ub=b, bounds=y_bounds)\n",
    "# Решение и значение целевой функции\n",
    "result.x, result.fun"
   ]
  },
  {
   "cell_type": "markdown",
   "id": "b40e6981",
   "metadata": {},
   "source": [
    "Равновесная стратегия второго и его выbигрыш в игре с матрицей $A_c$"
   ]
  },
  {
   "cell_type": "code",
   "execution_count": 10,
   "id": "d91a4069",
   "metadata": {
    "scrolled": true
   },
   "outputs": [
    {
     "data": {
      "text/plain": [
       "(-3.916666666666667, array([0.58333333, 0.41666667]))"
      ]
     },
     "execution_count": 10,
     "metadata": {},
     "output_type": "execute_result"
    }
   ],
   "source": [
    "U_c = 1/result.fun\n",
    "Q = U_c*result.x\n",
    "-U_c, Q"
   ]
  },
  {
   "cell_type": "markdown",
   "id": "a7548e41",
   "metadata": {},
   "source": [
    "Выигрыш второго игрока"
   ]
  },
  {
   "cell_type": "code",
   "execution_count": 11,
   "id": "f324d3be",
   "metadata": {},
   "outputs": [
    {
     "data": {
      "image/png": "[encoded data removed]",
      "text/latex": [
       "$\\displaystyle 0.083333333333333$"
      ],
      "text/plain": [
       "0.08333333333333304"
      ]
     },
     "execution_count": 11,
     "metadata": {},
     "output_type": "execute_result"
    }
   ],
   "source": [
    "-(U_c-4)"
   ]
  }
 ],
 "metadata": {
  "kernelspec": {
   "display_name": "Python 3 (ipykernel)",
   "language": "python",
   "name": "python3"
  },
  "language_info": {
   "codemirror_mode": {
    "name": "ipython",
    "version": 3
   },
   "file_extension": ".py",
   "mimetype": "text/x-python",
   "name": "python",
   "nbconvert_exporter": "python",
   "pygments_lexer": "ipython3",
   "version": "3.9.15"
  }
 },
 "nbformat": 4,
 "nbformat_minor": 5
}
