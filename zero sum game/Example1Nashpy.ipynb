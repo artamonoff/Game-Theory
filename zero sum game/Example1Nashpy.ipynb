{
 "cells": [
  {
   "cell_type": "markdown",
   "id": "85a4a4f0",
   "metadata": {},
   "source": [
    "# Пример 1 (Nashpy)"
   ]
  },
  {
   "cell_type": "code",
   "execution_count": 1,
   "id": "6dd90ca3",
   "metadata": {},
   "outputs": [],
   "source": [
    "# Если библиотека nashpy не установлена, то нужно выпонить команду\n",
    "# conda install -c conda-forge naspy"
   ]
  },
  {
   "cell_type": "code",
   "execution_count": 2,
   "id": "ff820147",
   "metadata": {},
   "outputs": [],
   "source": [
    "# Работа с матрицами\n",
    "import numpy as np\n",
    "# Для поиска равновесия\n",
    "import nashpy as nash\n",
    "# Символьная линейная алгебра\n",
    "from sympy import *\n",
    "init_printing()"
   ]
  },
  {
   "cell_type": "markdown",
   "id": "956a75ed",
   "metadata": {},
   "source": [
    "Двое играют на деньги, одновременно называя одно из чисел 1 или 2, \n",
    "и потом считая сумму $S$. Если $S$ четная, то первый выигрывает у второго $S$ долларов,\n",
    "если $S$ нечетная, то второй выигрывает у первого $S$ долларов. "
   ]
  },
  {
   "cell_type": "code",
   "execution_count": 3,
   "id": "f69c7538",
   "metadata": {
    "scrolled": true
   },
   "outputs": [
    {
     "data": {
      "image/png": "[encoded data removed]",
      "text/latex": [
       "$\\displaystyle \\left[\\begin{matrix}2 & -3\\\\-3 & 4\\end{matrix}\\right]$"
      ],
      "text/plain": [
       "⎡2   -3⎤\n",
       "⎢      ⎥\n",
       "⎣-3  4 ⎦"
      ]
     },
     "execution_count": 3,
     "metadata": {},
     "output_type": "execute_result"
    }
   ],
   "source": [
    "# Pay-off matrix\n",
    "A = np.array([ [2, -3], [-3, 4] ])\n",
    "Matrix(A) # from sympy"
   ]
  },
  {
   "cell_type": "code",
   "execution_count": 4,
   "id": "1a510c5f",
   "metadata": {},
   "outputs": [
    {
     "name": "stdout",
     "output_type": "stream",
     "text": [
      "Zero sum game with payoff matrices:\n",
      "\n",
      "Row player:\n",
      "[[ 2 -3]\n",
      " [-3  4]]\n",
      "\n",
      "Column player:\n",
      "[[-2  3]\n",
      " [ 3 -4]]\n"
     ]
    }
   ],
   "source": [
    "# Задаём игру\n",
    "zsg = nash.Game(A)\n",
    "print(zsg)"
   ]
  },
  {
   "cell_type": "markdown",
   "id": "b7449ac5",
   "metadata": {},
   "source": [
    "## Ожидаемый выигрыш\n",
    "Предположим, что игроки следуют смешанным стратегиям $P^\\top=\\begin{pmatrix} 0.3 & 0.7\\end{pmatrix}$ и $Q^\\top=\\begin{pmatrix} 0.25 & 0.75\\end{pmatrix}$. Ожидаемый выигрыш каждого из игроков.\n",
    "\n",
    "Ожидаемый выигрышь первого $EU_A(P,Q)=P^\\top AQ$, второго $EU_B(P,Q)=-EU_A(P,Q)$"
   ]
  },
  {
   "cell_type": "code",
   "execution_count": 5,
   "id": "00d5dcc0",
   "metadata": {},
   "outputs": [
    {
     "name": "stdout",
     "output_type": "stream",
     "text": [
      "[ 1.05 -1.05]\n"
     ]
    }
   ],
   "source": [
    "P = np.array([0.3, 0.7])\n",
    "Q = np.array([0.25, 0.75])\n",
    "# Ожидаемый выигрыш\n",
    "print(zsg[P,Q])"
   ]
  },
  {
   "cell_type": "markdown",
   "id": "130e45c0",
   "metadata": {},
   "source": [
    "## Равновесие Нэша в смешанных стратегиях"
   ]
  },
  {
   "cell_type": "code",
   "execution_count": 6,
   "id": "0d6c51ef",
   "metadata": {},
   "outputs": [
    {
     "name": "stdout",
     "output_type": "stream",
     "text": [
      "(array([0.58333333, 0.41666667]), array([0.58333333, 0.41666667]))\n",
      "[-0.08333333  0.08333333]\n"
     ]
    }
   ],
   "source": [
    "nash_eq = zsg.support_enumeration()\n",
    "#list(nash_eq)\n",
    "for eq in nash_eq:\n",
    "    print(eq)\n",
    "    print(zsg[eq])"
   ]
  }
 ],
 "metadata": {
  "kernelspec": {
   "display_name": "Python 3 (ipykernel)",
   "language": "python",
   "name": "python3"
  },
  "language_info": {
   "codemirror_mode": {
    "name": "ipython",
    "version": 3
   },
   "file_extension": ".py",
   "mimetype": "text/x-python",
   "name": "python",
   "nbconvert_exporter": "python",
   "pygments_lexer": "ipython3",
   "version": "3.9.15"
  }
 },
 "nbformat": 4,
 "nbformat_minor": 5
}
